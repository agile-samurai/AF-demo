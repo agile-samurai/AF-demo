{
  "cells": [
    {
      "cell_type": "markdown",
      "metadata": {
        "pycharm": {}
      },
      "source": [
        "## U.Group RDSO AI/ML Notebook\n",
        "\n",
        "This notebook demonstrates the AI and ML features implemented in the U.Group RDSO submission website. "
      ]
    },
    {
      "cell_type": "markdown",
      "metadata": {
        "pycharm": {}
      },
      "source": [
        "### Data Processing Pipeline\n",
        "The general outline of our data processing pipeline is as follows:\n",
        "\n",
        "* Scrape movie data from various freely available sources (e.g. OMDB, MovieTweetings)\n",
        "* Clean and parse the data\n",
        "* Join the various data sources - most include the IMDB ID, which can be used as a unique key\n",
        "* Parse the data fields into standardized formats across the application\n",
        "* Join together multiple descriptive text fields into a single `description` field\n",
        "* Clean, preprocess, and tokenize the `description` field in preparation for vectorization\n",
        "\n",
        "The output of this processing is the raw scraped data in the `data/` subfolder, and a pickle file containing a `pandas Dataframe` of the processed data, ready for machine learning."
      ]
    },
    {
      "cell_type": "code",
      "execution_count": 14,
      "metadata": {
        "pycharm": {}
      },
      "outputs": [],
      "source": [
        "from rdso import movies, vectorize, plot\n",
        "from gensim.models.doc2vec import Doc2Vec\n",
        "import numpy as np\n",
        "import pathlib\n",
        "import pandas as pd"
      ]
    },
    {
      "cell_type": "code",
      "execution_count": 18,
      "metadata": {
        "pycharm": {}
      },
      "outputs": [
        {
          "name": "stdout",
          "output_type": "stream",
          "text": [
            "Loaded 17351 movies\n"
          ]
        }
      ],
      "source": "cwd \u003d pathlib.Path(\".\").resolve()\ndata_dir \u003d cwd.parents[0] / \"data\"\nmovies_df_file \u003d data_dir / \"movies_df.pkl\"\nmovies_df \u003d pd.read_pickle(str(movies_df_file))\nprint(f\"Loaded {len(movies_df)} movies\") "
    },
    {
      "cell_type": "markdown",
      "metadata": {
        "pycharm": {}
      },
      "source": [
        "### Data Science AI/ML Pipeline\n",
        "* Train a Doc2Vec model on our cleaned \u0026 tokenized movie descriptions\n",
        "* Use movie genres from OMDB as categories to create clusters\n",
        "* Find the centroid of each cluster\n",
        "* Measure the mean and standard deviation of movie distances from center within each cluster, and record this as our metric for model performance. A higher-performing model will result in tighter clusters, with a smaller mean and standard deviation."
      ]
    },
    {
      "cell_type": "markdown",
      "metadata": {
        "pycharm": {}
      },
      "source": [
        "Doc2Vec has a great feature that allows you to tag each document prior to training, and that tag will be retained with the created document vectors so that you can look up a document by tag. We will create a tagged corpus using the IMDB IDs that are common among our datasets."
      ]
    },
    {
      "cell_type": "code",
      "execution_count": 3,
      "metadata": {
        "pycharm": {}
      },
      "outputs": [],
      "source": [
        "movies_labels \u003d list(movies_df[\"film_id\"])\n",
        "movie_tokens \u003d movies_df[\"movie_tokens\"].tolist()\n",
        "tagged_corpus \u003d vectorize.TaggedLineDocument(movie_tokens, movies_labels)"
      ]
    },
    {
      "cell_type": "markdown",
      "metadata": {
        "pycharm": {}
      },
      "source": [
        "Now we can train the Doc2Vec model:"
      ]
    },
    {
      "cell_type": "code",
      "execution_count": 4,
      "metadata": {
        "pycharm": {}
      },
      "outputs": [],
      "source": [
        "d2v_model \u003d vectorize.train_doc2vec(tagged_corpus)"
      ]
    },
    {
      "cell_type": "markdown",
      "metadata": {
        "pycharm": {}
      },
      "source": [
        "We now have a collection of tagged document vectors. We can use these to go through each of the genres in our `movies_df` data and find the centroid."
      ]
    },
    {
      "cell_type": "code",
      "execution_count": 8,
      "metadata": {
        "pycharm": {}
      },
      "outputs": [
        {
          "name": "stdout",
          "output_type": "stream",
          "text": [
            "Documentary: mean 0.8740, standard deviation 0.3419\n",
            "Comedy: mean 0.8888, standard deviation 0.2797\n",
            "Action: mean 0.8590, standard deviation 0.2594\n",
            "Animation: mean 0.8356, standard deviation 0.2708\n",
            "Crime: mean 0.8589, standard deviation 0.2826\n",
            "Drama: mean 0.8755, standard deviation 0.2602\n",
            "Short: mean 0.8682, standard deviation 0.3933\n",
            "Horror: mean 0.8574, standard deviation 0.3041\n",
            "Mystery: mean 0.9434, standard deviation 0.4701\n",
            "Biography: mean 0.8938, standard deviation 0.2857\n",
            "Thriller: mean 0.8943, standard deviation 0.2824\n",
            "Fantasy: mean 0.9223, standard deviation 0.5597\n",
            "Adventure: mean 0.8591, standard deviation 0.2941\n",
            "Sci-Fi: mean 0.7786, standard deviation 0.2226\n",
            "Family: mean 0.8521, standard deviation 0.3740\n",
            "Adult: mean 0.0000, standard deviation 0.0000\n",
            "Romance: mean 0.8767, standard deviation 0.2822\n",
            "News: mean 0.8314, standard deviation 0.2249\n",
            "Musical: mean 0.9085, standard deviation 0.1229\n",
            "History: mean 0.7476, standard deviation 0.1873\n",
            "Music: mean 0.8547, standard deviation 0.2092\n",
            "War: mean 0.0000, standard deviation 0.0000\n",
            "Sport: mean 0.5878, standard deviation 0.1499\n",
            "Western: mean 0.6553, standard deviation 0.0928\n",
            "Reality-TV: mean 0.0000, standard deviation 0.0000\n"
          ]
        }
      ],
      "source": [
        "genre_metrics, genre_centroids \u003d vectorize.get_genre_distance_metrics(d2v_model, movies_df)\n",
        "for genre in genre_metrics.items():\n",
        "    print(f\u0027{genre[0]}: mean {genre[1][\"mean\"]:0.4f}, standard deviation {genre[1][\"stdev\"]:0.4f}\u0027)"
      ]
    },
    {
      "cell_type": "markdown",
      "metadata": {
        "pycharm": {}
      },
      "source": [
        "If we have a text description of a movie that is not in our dataset, we can preprocess, clean, and tokenize the text, then pass the tokens to the Doc2Vec model to find the genre it would fit best in"
      ]
    },
    {
      "cell_type": "code",
      "execution_count": 12,
      "metadata": {
        "pycharm": {}
      },
      "outputs": [
        {
          "name": "stdout",
          "output_type": "stream",
          "text": [
            "Die Hard movie tokens: [\u0027police\u0027, \u0027hands\u0027, \u0027escape\u0027, \u0027nakatomi\u0027, \u0027gruber\u0027, \u0027goes\u0027], ...\n"
          ]
        }
      ],
      "source": [
        "die_hard_imdbID \u003d \"tt0095016\"\n",
        "die_hard_description \u003d \"NYPD cop John McClane goes on a Christmas vacation to visit his wife Holly in Los Angeles where she works for the Nakatomi Corporation. While they are at the Nakatomi headquarters for a Christmas party, a group of robbers led by Hans Gruber take control of the building and hold everyone hostage, with the exception of John, while they plan to perform a lucrative heist. Unable to escape and with no immediate police response, John is forced to take matters into his own hands.\"\n",
        "die_hard_tokens \u003d movies.nlp_clean(die_hard_description)\n",
        "print(f\"Die Hard movie tokens: {die_hard_tokens[:6]}, ...\")"
      ]
    },
    {
      "cell_type": "code",
      "execution_count": 13,
      "metadata": {
        "pycharm": {}
      },
      "outputs": [
        {
          "name": "stdout",
          "output_type": "stream",
          "text": [
            "Reality-TV 4.6758966\n"
          ]
        }
      ],
      "source": [
        "die_hard_vectors \u003d d2v_model.infer_vector(die_hard_tokens)\n",
        "genre_distances \u003d {}\n",
        "min_distance \u003d 10\n",
        "min_genre \u003d None\n",
        "for genre in genre_centroids.items():\n",
        "    genre_distance \u003d np.linalg.norm(die_hard_vectors - genre[1])\n",
        "    genre_distances[genre[0]] \u003d genre_distance\n",
        "    if genre_distance \u003c min_distance:\n",
        "        min_distance \u003d genre_distance\n",
        "        min_genre \u003d genre[0]\n",
        "print(min_genre, min_distance)"
      ]
    },
    {
      "cell_type": "code",
      "execution_count": null,
      "metadata": {
        "pycharm": {}
      },
      "outputs": [],
      "source": []
    }
  ],
  "metadata": {
    "kernelspec": {
      "display_name": "Python 3",
      "language": "python",
      "name": "python3"
    },
    "language_info": {
      "codemirror_mode": {
        "name": "ipython",
        "version": 3
      },
      "file_extension": ".py",
      "mimetype": "text/x-python",
      "name": "python",
      "nbconvert_exporter": "python",
      "pygments_lexer": "ipython3",
      "version": "3.6.8"
    }
  },
  "nbformat": 4,
  "nbformat_minor": 2
}